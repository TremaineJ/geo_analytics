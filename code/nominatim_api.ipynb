{
 "cells": [
  {
   "cell_type": "markdown",
   "metadata": {},
   "source": [
    "Read the Docs\n",
    "https://nominatim.org/release-docs/develop/"
   ]
  },
  {
   "cell_type": "code",
   "execution_count": 81,
   "metadata": {},
   "outputs": [],
   "source": [
    "import requests\n",
    "import pandas as pd\n",
    "import numpy as np\n",
    "import sys\n",
    "from geopy import distance"
   ]
  },
  {
   "cell_type": "code",
   "execution_count": 2,
   "metadata": {},
   "outputs": [],
   "source": [
    "url = 'https://nominatim.openstreetmap.org/search?'"
   ]
  },
  {
   "cell_type": "code",
   "execution_count": 14,
   "metadata": {},
   "outputs": [
    {
     "ename": "SyntaxError",
     "evalue": "invalid syntax (<ipython-input-14-8c4ac5bcf717>, line 2)",
     "output_type": "error",
     "traceback": [
      "\u001b[0;36m  File \u001b[0;32m\"<ipython-input-14-8c4ac5bcf717>\"\u001b[0;36m, line \u001b[0;32m2\u001b[0m\n\u001b[0;31m    city = 'Bethesda',\u001b[0m\n\u001b[0m         ^\u001b[0m\n\u001b[0;31mSyntaxError\u001b[0m\u001b[0;31m:\u001b[0m invalid syntax\n"
     ]
    }
   ],
   "source": [
    "query = {\n",
    "    city = 'Bethesda',\n",
    "    state = 'Maryland',\n",
    "    country = 'United States'\n",
    "}"
   ]
  },
  {
   "cell_type": "code",
   "execution_count": 57,
   "metadata": {},
   "outputs": [],
   "source": [
    "limit = 1\n",
    "results = requests.get(url+'q=Clear Lake,Washington,United States&format=json&limit={0}'.format(limit))"
   ]
  },
  {
   "cell_type": "code",
   "execution_count": 58,
   "metadata": {},
   "outputs": [],
   "source": [
    "js = results.json()"
   ]
  },
  {
   "cell_type": "code",
   "execution_count": 59,
   "metadata": {},
   "outputs": [
    {
     "name": "stdout",
     "output_type": "stream",
     "text": [
      "lat\n",
      "48.4551255\n",
      "lon\n",
      "-122.24035880594406\n"
     ]
    }
   ],
   "source": [
    "for i in js:\n",
    "    for j in i:\n",
    "        if (j == 'lat') | (j == 'lon'):\n",
    "            print(j)\n",
    "            print(i.get(j))"
   ]
  },
  {
   "cell_type": "code",
   "execution_count": null,
   "metadata": {},
   "outputs": [],
   "source": [
    "\"\"\"\n",
    "Pseudo Code:\n",
    "1) For every address, try to access API; if error skip to next row and insert error row and error value\n",
    "    - check for status code before moving to next value\n",
    "2) If request successful, attempt to access lon and latitude.  If nothing, skip to next row; if multiple results, insert first results\n",
    "\"\"\""
   ]
  },
  {
   "cell_type": "code",
   "execution_count": 78,
   "metadata": {},
   "outputs": [],
   "source": [
    "def get_latLong(city,state,country,limit=1):\n",
    "    try:\n",
    "        results = requests.get('https://nominatim.openstreetmap.org/search?q={0},{1},{2}&format=json&limit={3}'.format(city,state,country,limit))\n",
    "        req = results.json()[0]\n",
    "        return req.get('lat'), req.get('lon')\n",
    "    except:\n",
    "        return sys.exc_info()[0]"
   ]
  },
  {
   "cell_type": "code",
   "execution_count": 129,
   "metadata": {},
   "outputs": [],
   "source": [
    "myData = []"
   ]
  },
  {
   "cell_type": "code",
   "execution_count": 115,
   "metadata": {},
   "outputs": [],
   "source": [
    "dc = get_latLong('Washington','District of Columbia','United States')\n",
    "nyc = get_latLong('New York City','New York','United States')"
   ]
  },
  {
   "cell_type": "code",
   "execution_count": 116,
   "metadata": {},
   "outputs": [
    {
     "name": "stdout",
     "output_type": "stream",
     "text": [
      "204.67279260883512\n"
     ]
    }
   ],
   "source": [
    "print(distance.distance(dc,nyc).miles)"
   ]
  },
  {
   "cell_type": "code",
   "execution_count": 117,
   "metadata": {},
   "outputs": [],
   "source": [
    "# get data\n",
    "data = pd.read_csv('../data/crm_address.csv')\n",
    "data.sort_values('cnt',ascending=False,inplace=True)\n",
    "data['longitude'] = 'N/A'\n",
    "data['latitude'] = 'N/A'\n",
    "data['Error'] = 0"
   ]
  },
  {
   "cell_type": "code",
   "execution_count": 118,
   "metadata": {},
   "outputs": [],
   "source": [
    "#remove unwanted addresses\n",
    "data = data.loc[(data['state_name'] != 'Alberta')&(data['state_name'] != 'American Samoa')&\n",
    "                 (data['state_name'] != 'British Columbia')&(data['state_name'] != 'Canal Zone')&\n",
    "                 (data['state_name'] != 'Federated States of Micronesia')&(data['state_name'] != 'Guam')&\n",
    "                 (data['state_name'] != 'Marshall Islands')&(data['state_name'] != 'Military Americas')&\n",
    "                 (data['state_name'] != 'Military Europe')&(data['state_name'] != 'Military Pacific')&\n",
    "                 (data['state_name'] != 'New Brunswick')&(data['state_name'] != 'Northern Mariana Islands')&\n",
    "                 (data['state_name'] != 'Northwest Territories')&(data['state_name'] != 'Nova Scotia')&\n",
    "                 (data['state_name'] != 'Ontario')&(data['state_name'] != 'Prince Edward Island')&\n",
    "                 (data['state_name'] != 'Quebec')&(data['state_name'] != 'Republic of Palau')&\n",
    "                 (data['state_name'] != 'Saskatchewan')&(data['state_name'] != 'Virgin Islands')&\n",
    "                 (data['state_name'] != 'Yukon')]"
   ]
  },
  {
   "cell_type": "code",
   "execution_count": 119,
   "metadata": {},
   "outputs": [],
   "source": [
    "batch = data.loc[(data['country_name'].notnull()) & (data['state_name'].notnull()) &\n",
    "                (data['longitude']=='N/A')]\n",
    "#batch.reset_index(inplace=True)"
   ]
  },
  {
   "cell_type": "code",
   "execution_count": 120,
   "metadata": {},
   "outputs": [],
   "source": [
    "batch = data.head(100)"
   ]
  },
  {
   "cell_type": "code",
   "execution_count": 130,
   "metadata": {},
   "outputs": [],
   "source": [
    "for index, row in data.iterrows():\n",
    "    try:\n",
    "        lat, long = get_latLong(row.city,row.state_name, row.country_name)\n",
    "        # calculate distances\n",
    "        nyc_dist = distance.distance((lat,long),nyc).miles\n",
    "        dc_dist = distance.distance((lat,long),dc).miles\n",
    "        \n",
    "        #append final data\n",
    "        myData.append([row.city, row.state_name, row.country_name, lat, long, nyc_dist, dc_dist])\n",
    "        #data['longitude'].iloc[index]=long\n",
    "        #data['latitude'].iloc[index]=lat\n",
    "    except TypeError:\n",
    "        continue"
   ]
  },
  {
   "cell_type": "code",
   "execution_count": 131,
   "metadata": {},
   "outputs": [],
   "source": [
    "df = pd.DataFrame(myData, columns = ['city','state','country','latitude','longitude',\n",
    "                                     'nyc_distance','dc_distance'])"
   ]
  },
  {
   "cell_type": "code",
   "execution_count": 133,
   "metadata": {},
   "outputs": [],
   "source": [
    "df.to_csv('../data/api_distance_results.csv', index=False)"
   ]
  },
  {
   "cell_type": "code",
   "execution_count": 135,
   "metadata": {},
   "outputs": [
    {
     "data": {
      "text/html": [
       "<div>\n",
       "<style scoped>\n",
       "    .dataframe tbody tr th:only-of-type {\n",
       "        vertical-align: middle;\n",
       "    }\n",
       "\n",
       "    .dataframe tbody tr th {\n",
       "        vertical-align: top;\n",
       "    }\n",
       "\n",
       "    .dataframe thead th {\n",
       "        text-align: right;\n",
       "    }\n",
       "</style>\n",
       "<table border=\"1\" class=\"dataframe\">\n",
       "  <thead>\n",
       "    <tr style=\"text-align: right;\">\n",
       "      <th></th>\n",
       "      <th>city</th>\n",
       "      <th>state</th>\n",
       "      <th>country</th>\n",
       "      <th>latitude</th>\n",
       "      <th>longitude</th>\n",
       "      <th>nyc_distance</th>\n",
       "      <th>dc_distance</th>\n",
       "    </tr>\n",
       "  </thead>\n",
       "  <tbody>\n",
       "  </tbody>\n",
       "</table>\n",
       "</div>"
      ],
      "text/plain": [
       "Empty DataFrame\n",
       "Columns: [city, state, country, latitude, longitude, nyc_distance, dc_distance]\n",
       "Index: []"
      ]
     },
     "execution_count": 135,
     "metadata": {},
     "output_type": "execute_result"
    }
   ],
   "source": []
  },
  {
   "cell_type": "code",
   "execution_count": null,
   "metadata": {},
   "outputs": [],
   "source": []
  }
 ],
 "metadata": {
  "kernelspec": {
   "display_name": "Python 3",
   "language": "python",
   "name": "python3"
  },
  "language_info": {
   "codemirror_mode": {
    "name": "ipython",
    "version": 3
   },
   "file_extension": ".py",
   "mimetype": "text/x-python",
   "name": "python",
   "nbconvert_exporter": "python",
   "pygments_lexer": "ipython3",
   "version": "3.8.5"
  }
 },
 "nbformat": 4,
 "nbformat_minor": 4
}
