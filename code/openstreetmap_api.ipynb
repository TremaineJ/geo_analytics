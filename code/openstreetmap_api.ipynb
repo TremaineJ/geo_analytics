{
 "cells": [
  {
   "cell_type": "markdown",
   "id": "several-employment",
   "metadata": {},
   "source": [
    "API Docs: https://nominatim.org/release-docs/develop/"
   ]
  },
  {
   "cell_type": "code",
   "execution_count": 1,
   "id": "peaceful-vietnam",
   "metadata": {},
   "outputs": [],
   "source": [
    "import requests\n",
    "import pandas as pd\n",
    "import numpy as np\n",
    "import sys"
   ]
  },
  {
   "cell_type": "code",
   "execution_count": null,
   "id": "communist-services",
   "metadata": {},
   "outputs": [],
   "source": [
    "# URL to API\n",
    "url = 'https://nominatim.openstreetmap.org/search?'\n",
    "\n",
    "# how many results to return from API\n",
    "limit = 1"
   ]
  },
  {
   "cell_type": "code",
   "execution_count": null,
   "id": "natural-robertson",
   "metadata": {},
   "outputs": [],
   "source": [
    "def city_state_lat_long(city,state,country,limit=1):\n",
    "    try:\n",
    "        results = requests.get(url+'q={0},{1},{2}&format=json&limit={3}'.format(city,state,country,limit))\n",
    "        req = results.json()[0]\n",
    "        return req.get('lat'), req.get('lon')\n",
    "    except:\n",
    "        return sys.exc_info()[0]"
   ]
  }
 ],
 "metadata": {
  "kernelspec": {
   "display_name": "Python 3",
   "language": "python",
   "name": "python3"
  },
  "language_info": {
   "codemirror_mode": {
    "name": "ipython",
    "version": 3
   },
   "file_extension": ".py",
   "mimetype": "text/x-python",
   "name": "python",
   "nbconvert_exporter": "python",
   "pygments_lexer": "ipython3",
   "version": "3.7.6"
  }
 },
 "nbformat": 4,
 "nbformat_minor": 5
}
