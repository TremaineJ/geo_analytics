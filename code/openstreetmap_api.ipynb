{
 "cells": [
  {
   "cell_type": "markdown",
   "id": "several-employment",
   "metadata": {},
   "source": [
    "API Docs: https://nominatim.org/release-docs/develop/\n",
    "https://docs.python.org/3/tutorial/classes.html\n",
    "\n",
    "#### Requirements:\n",
    "\n",
    "1) Generate latitude and longitude from city, state, and country entry\n",
    "\n",
    "\n",
    "2) Generate location information from latitude and longitude entry (reverse lookup)"
   ]
  },
  {
   "cell_type": "code",
   "execution_count": 2,
   "id": "peaceful-vietnam",
   "metadata": {},
   "outputs": [],
   "source": [
    "import requests\n",
    "import pandas as pd\n",
    "import sys"
   ]
  },
  {
   "cell_type": "code",
   "execution_count": 12,
   "id": "presidential-backing",
   "metadata": {},
   "outputs": [],
   "source": [
    "\n",
    "    \n",
    "    # URL to API\n",
    "    search_url = 'https://nominatim.openstreetmap.org/search?'\n",
    "    reverse_url = 'https://nominatim.openstreetmap.org/reverse?'\n",
    "\n",
    "    # how many results to return from API\n",
    "    limit = 1\n",
    "    \n",
    "    # function to get latitude and longitude\n",
    "    def get_lat_long(city,state,country,limit=1):\n",
    "        try:\n",
    "            results = requests.get('https://nominatim.openstreetmap.org/search?q={0},{1},{2}&format=json&limit={3}'.format(city,state,country,limit))\n",
    "            req = results.json()[0]\n",
    "            return req.get('lat'), req.get('lon')\n",
    "        except:\n",
    "            return sys.exc_info()[0]\n",
    "    \n",
    "    \n",
    "    # function to get location details from latitude and longitude\n",
    "    def reverse_lookup(latitude, longitude):\n",
    "        try:\n",
    "            results = requests.get('https://nominatim.openstreetmap.org/reverse?format=geojson&lat={0}&lon={1}'.format(latitude,longitude))\n",
    "            return results.json()\n",
    "            # req.get('properties')\n",
    "        except:\n",
    "            return sys.exc_info()[0]"
   ]
  },
  {
   "cell_type": "code",
   "execution_count": 13,
   "id": "mysterious-homeless",
   "metadata": {},
   "outputs": [],
   "source": [
    "lat = '38.889059149999994'\n",
    "long = '-77.04016998008728'\n",
    "\n",
    "detail = reverse_lookup(lat,long)"
   ]
  },
  {
   "cell_type": "code",
   "execution_count": 15,
   "id": "productive-computer",
   "metadata": {},
   "outputs": [],
   "source": [
    "features = detail.get('features')"
   ]
  },
  {
   "cell_type": "code",
   "execution_count": 33,
   "id": "living-blues",
   "metadata": {},
   "outputs": [],
   "source": [
    "address = features[0].get('properties').get('address')"
   ]
  },
  {
   "cell_type": "code",
   "execution_count": 34,
   "id": "above-hydrogen",
   "metadata": {},
   "outputs": [],
   "source": [
    "address_detail = [address.get('city'), address.get('state'), address.get('country')]"
   ]
  },
  {
   "cell_type": "code",
   "execution_count": 35,
   "id": "square-bunch",
   "metadata": {},
   "outputs": [
    {
     "data": {
      "text/plain": [
       "['Washington', 'District of Columbia', 'United States']"
      ]
     },
     "execution_count": 35,
     "metadata": {},
     "output_type": "execute_result"
    }
   ],
   "source": [
    "address_detail"
   ]
  },
  {
   "cell_type": "code",
   "execution_count": null,
   "id": "handed-nightlife",
   "metadata": {},
   "outputs": [],
   "source": []
  }
 ],
 "metadata": {
  "kernelspec": {
   "display_name": "Python 3",
   "language": "python",
   "name": "python3"
  },
  "language_info": {
   "codemirror_mode": {
    "name": "ipython",
    "version": 3
   },
   "file_extension": ".py",
   "mimetype": "text/x-python",
   "name": "python",
   "nbconvert_exporter": "python",
   "pygments_lexer": "ipython3",
   "version": "3.7.6"
  }
 },
 "nbformat": 4,
 "nbformat_minor": 5
}
