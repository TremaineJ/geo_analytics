{
 "cells": [
  {
   "cell_type": "code",
   "execution_count": 1,
   "metadata": {},
   "outputs": [],
   "source": [
    "from geopy.geocoders import Nominatim\n",
    "from geopy import distance\n",
    "import geopandas as gpd\n",
    "from shapely.geometry import Point, Polygon\n",
    "import matplotlib.pyplot as plt\n",
    "import pandas as pd\n",
    "import numpy as np\n",
    "%matplotlib inline"
   ]
  },
  {
   "cell_type": "code",
   "execution_count": 2,
   "metadata": {},
   "outputs": [],
   "source": [
    "geolocator = Nominatim(user_agent=\"Tremaine Johns\")\n",
    "\n",
    "def get_longLat(city,state,country):\n",
    "    location = geolocator.geocode(str(city)+','+str(state)+','+str(country))\n",
    "    return location.longitude, location.latitude"
   ]
  },
  {
   "cell_type": "code",
   "execution_count": 3,
   "metadata": {},
   "outputs": [],
   "source": [
    "# get data\n",
    "data = pd.read_csv('../data/crm_address.csv')\n",
    "data.sort_values('cnt',ascending=False,inplace=True)\n",
    "data['longitude'] = 'N/A'\n",
    "data['latitude'] = 'N/A'"
   ]
  },
  {
   "cell_type": "code",
   "execution_count": 4,
   "metadata": {},
   "outputs": [],
   "source": [
    "#remove unwanted addresses\n",
    "data = data.loc[(data['state_name'] != 'Alberta')&(data['state_name'] != 'American Samoa')&\n",
    "                 (data['state_name'] != 'British Columbia')&(data['state_name'] != 'Canal Zone')&\n",
    "                 (data['state_name'] != 'Federated States of Micronesia')&(data['state_name'] != 'Guam')&\n",
    "                 (data['state_name'] != 'Marshall Islands')&(data['state_name'] != 'Military Americas')&\n",
    "                 (data['state_name'] != 'Military Europe')&(data['state_name'] != 'Military Pacific')&\n",
    "                 (data['state_name'] != 'New Brunswick')&(data['state_name'] != 'Northern Mariana Islands')&\n",
    "                 (data['state_name'] != 'Northwest Territories')&(data['state_name'] != 'Nova Scotia')&\n",
    "                 (data['state_name'] != 'Ontario')&(data['state_name'] != 'Prince Edward Island')&\n",
    "                 (data['state_name'] != 'Quebec')&(data['state_name'] != 'Republic of Palau')&\n",
    "                 (data['state_name'] != 'Saskatchewan')&(data['state_name'] != 'Virgin Islands')&\n",
    "                 (data['state_name'] != 'Yukon')]"
   ]
  },
  {
   "cell_type": "code",
   "execution_count": 15,
   "metadata": {},
   "outputs": [],
   "source": [
    "batch = data.loc[(data['country_name'].notnull()) & (data['state_name'].notnull()) &\n",
    "                (data['longitude']=='N/A')]\n",
    "#batch.reset_index(inplace=True)"
   ]
  },
  {
   "cell_type": "code",
   "execution_count": 26,
   "metadata": {},
   "outputs": [
    {
     "name": "stderr",
     "output_type": "stream",
     "text": [
      "/Users/tremainejohns/opt/anaconda3/lib/python3.7/site-packages/pandas/core/indexing.py:670: SettingWithCopyWarning: \n",
      "A value is trying to be set on a copy of a slice from a DataFrame\n",
      "\n",
      "See the caveats in the documentation: https://pandas.pydata.org/pandas-docs/stable/user_guide/indexing.html#returning-a-view-versus-a-copy\n",
      "  self._setitem_with_indexer(indexer, value)\n",
      "/Users/tremainejohns/opt/anaconda3/lib/python3.7/site-packages/ipykernel_launcher.py:2: SettingWithCopyWarning: \n",
      "A value is trying to be set on a copy of a slice from a DataFrame\n",
      "\n",
      "See the caveats in the documentation: https://pandas.pydata.org/pandas-docs/stable/user_guide/indexing.html#returning-a-view-versus-a-copy\n",
      "  \n"
     ]
    }
   ],
   "source": [
    "batch = data.head(100)\n",
    "batch['state_name'].loc[batch['state_name'] == 'District of Columbia'] = 'D.C.'"
   ]
  },
  {
   "cell_type": "code",
   "execution_count": 27,
   "metadata": {},
   "outputs": [
    {
     "data": {
      "text/html": [
       "<div>\n",
       "<style scoped>\n",
       "    .dataframe tbody tr th:only-of-type {\n",
       "        vertical-align: middle;\n",
       "    }\n",
       "\n",
       "    .dataframe tbody tr th {\n",
       "        vertical-align: top;\n",
       "    }\n",
       "\n",
       "    .dataframe thead th {\n",
       "        text-align: right;\n",
       "    }\n",
       "</style>\n",
       "<table border=\"1\" class=\"dataframe\">\n",
       "  <thead>\n",
       "    <tr style=\"text-align: right;\">\n",
       "      <th></th>\n",
       "      <th>city</th>\n",
       "      <th>state_name</th>\n",
       "      <th>country_name</th>\n",
       "      <th>cnt</th>\n",
       "      <th>longitude</th>\n",
       "      <th>latitude</th>\n",
       "    </tr>\n",
       "  </thead>\n",
       "  <tbody>\n",
       "    <tr>\n",
       "      <th>23288</th>\n",
       "      <td>Washington</td>\n",
       "      <td>D.C.</td>\n",
       "      <td>United States</td>\n",
       "      <td>501102</td>\n",
       "      <td>N/A</td>\n",
       "      <td>N/A</td>\n",
       "    </tr>\n",
       "    <tr>\n",
       "      <th>22513</th>\n",
       "      <td>Arlington</td>\n",
       "      <td>Virginia</td>\n",
       "      <td>United States</td>\n",
       "      <td>81038</td>\n",
       "      <td>N/A</td>\n",
       "      <td>N/A</td>\n",
       "    </tr>\n",
       "    <tr>\n",
       "      <th>21720</th>\n",
       "      <td>Alexandria</td>\n",
       "      <td>Virginia</td>\n",
       "      <td>United States</td>\n",
       "      <td>60646</td>\n",
       "      <td>-86.8164</td>\n",
       "      <td>33.2443</td>\n",
       "    </tr>\n",
       "    <tr>\n",
       "      <th>7603</th>\n",
       "      <td>Bethesda</td>\n",
       "      <td>Maryland</td>\n",
       "      <td>United States</td>\n",
       "      <td>55965</td>\n",
       "      <td>-86.3214</td>\n",
       "      <td>34.0315</td>\n",
       "    </tr>\n",
       "    <tr>\n",
       "      <th>11498</th>\n",
       "      <td>Silver Spring</td>\n",
       "      <td>Maryland</td>\n",
       "      <td>United States</td>\n",
       "      <td>51393</td>\n",
       "      <td>-86.4832</td>\n",
       "      <td>31.3085</td>\n",
       "    </tr>\n",
       "    <tr>\n",
       "      <th>...</th>\n",
       "      <td>...</td>\n",
       "      <td>...</td>\n",
       "      <td>...</td>\n",
       "      <td>...</td>\n",
       "      <td>...</td>\n",
       "      <td>...</td>\n",
       "    </tr>\n",
       "    <tr>\n",
       "      <th>2842</th>\n",
       "      <td>Boulder</td>\n",
       "      <td>Colorado</td>\n",
       "      <td>United States</td>\n",
       "      <td>2052</td>\n",
       "      <td>N/A</td>\n",
       "      <td>N/A</td>\n",
       "    </tr>\n",
       "    <tr>\n",
       "      <th>6963</th>\n",
       "      <td>Louisville</td>\n",
       "      <td>Kentucky</td>\n",
       "      <td>United States</td>\n",
       "      <td>2030</td>\n",
       "      <td>N/A</td>\n",
       "      <td>N/A</td>\n",
       "    </tr>\n",
       "    <tr>\n",
       "      <th>7294</th>\n",
       "      <td>Indianapolis</td>\n",
       "      <td>Indiana</td>\n",
       "      <td>United States</td>\n",
       "      <td>2019</td>\n",
       "      <td>N/A</td>\n",
       "      <td>N/A</td>\n",
       "    </tr>\n",
       "    <tr>\n",
       "      <th>17228</th>\n",
       "      <td>Chapel Hill</td>\n",
       "      <td>North Carolina</td>\n",
       "      <td>United States</td>\n",
       "      <td>2004</td>\n",
       "      <td>N/A</td>\n",
       "      <td>N/A</td>\n",
       "    </tr>\n",
       "    <tr>\n",
       "      <th>22606</th>\n",
       "      <td>Fairfax Station</td>\n",
       "      <td>Virginia</td>\n",
       "      <td>United States</td>\n",
       "      <td>1934</td>\n",
       "      <td>-86.443</td>\n",
       "      <td>34.7493</td>\n",
       "    </tr>\n",
       "  </tbody>\n",
       "</table>\n",
       "<p>100 rows × 6 columns</p>\n",
       "</div>"
      ],
      "text/plain": [
       "                  city      state_name   country_name     cnt longitude  \\\n",
       "23288       Washington            D.C.  United States  501102       N/A   \n",
       "22513        Arlington        Virginia  United States   81038       N/A   \n",
       "21720       Alexandria        Virginia  United States   60646  -86.8164   \n",
       "7603          Bethesda        Maryland  United States   55965  -86.3214   \n",
       "11498    Silver Spring        Maryland  United States   51393  -86.4832   \n",
       "...                ...             ...            ...     ...       ...   \n",
       "2842           Boulder        Colorado  United States    2052       N/A   \n",
       "6963        Louisville        Kentucky  United States    2030       N/A   \n",
       "7294      Indianapolis         Indiana  United States    2019       N/A   \n",
       "17228      Chapel Hill  North Carolina  United States    2004       N/A   \n",
       "22606  Fairfax Station        Virginia  United States    1934   -86.443   \n",
       "\n",
       "      latitude  \n",
       "23288      N/A  \n",
       "22513      N/A  \n",
       "21720  33.2443  \n",
       "7603   34.0315  \n",
       "11498  31.3085  \n",
       "...        ...  \n",
       "2842       N/A  \n",
       "6963       N/A  \n",
       "7294       N/A  \n",
       "17228      N/A  \n",
       "22606  34.7493  \n",
       "\n",
       "[100 rows x 6 columns]"
      ]
     },
     "execution_count": 27,
     "metadata": {},
     "output_type": "execute_result"
    }
   ],
   "source": [
    "batch"
   ]
  },
  {
   "cell_type": "code",
   "execution_count": 28,
   "metadata": {},
   "outputs": [
    {
     "name": "stderr",
     "output_type": "stream",
     "text": [
      "/Users/tremainejohns/opt/anaconda3/lib/python3.7/site-packages/pandas/core/indexing.py:670: SettingWithCopyWarning: \n",
      "A value is trying to be set on a copy of a slice from a DataFrame\n",
      "\n",
      "See the caveats in the documentation: https://pandas.pydata.org/pandas-docs/stable/user_guide/indexing.html#returning-a-view-versus-a-copy\n",
      "  self._setitem_with_indexer(indexer, value)\n"
     ]
    }
   ],
   "source": [
    "for index, row in batch.iterrows():\n",
    "    try:\n",
    "        long, lat = get_longLat(row.city,row.state_name, row.country_name)\n",
    "        data['longitude'].iloc[index]=long\n",
    "        data['latitude'].iloc[index]=lat\n",
    "    except (AttributeError,IndexError):\n",
    "        continue"
   ]
  },
  {
   "cell_type": "code",
   "execution_count": 29,
   "metadata": {},
   "outputs": [
    {
     "name": "stdout",
     "output_type": "stream",
     "text": [
      "14024\n",
      "28769\n",
      "37\n",
      "100\n"
     ]
    }
   ],
   "source": [
    "print(len(data[data['longitude']=='N/A']))\n",
    "print(len(data))\n",
    "print(len(batch[batch['longitude']=='N/A']))\n",
    "print(len(batch))"
   ]
  },
  {
   "cell_type": "code",
   "execution_count": 22,
   "metadata": {},
   "outputs": [
    {
     "data": {
      "text/html": [
       "<div>\n",
       "<style scoped>\n",
       "    .dataframe tbody tr th:only-of-type {\n",
       "        vertical-align: middle;\n",
       "    }\n",
       "\n",
       "    .dataframe tbody tr th {\n",
       "        vertical-align: top;\n",
       "    }\n",
       "\n",
       "    .dataframe thead th {\n",
       "        text-align: right;\n",
       "    }\n",
       "</style>\n",
       "<table border=\"1\" class=\"dataframe\">\n",
       "  <thead>\n",
       "    <tr style=\"text-align: right;\">\n",
       "      <th></th>\n",
       "      <th>city</th>\n",
       "      <th>state_name</th>\n",
       "      <th>country_name</th>\n",
       "      <th>cnt</th>\n",
       "      <th>longitude</th>\n",
       "      <th>latitude</th>\n",
       "    </tr>\n",
       "  </thead>\n",
       "  <tbody>\n",
       "    <tr>\n",
       "      <th>23288</th>\n",
       "      <td>Washington</td>\n",
       "      <td>District of Columbia</td>\n",
       "      <td>United States</td>\n",
       "      <td>501102</td>\n",
       "      <td>N/A</td>\n",
       "      <td>N/A</td>\n",
       "    </tr>\n",
       "    <tr>\n",
       "      <th>22513</th>\n",
       "      <td>Arlington</td>\n",
       "      <td>Virginia</td>\n",
       "      <td>United States</td>\n",
       "      <td>81038</td>\n",
       "      <td>N/A</td>\n",
       "      <td>N/A</td>\n",
       "    </tr>\n",
       "    <tr>\n",
       "      <th>21720</th>\n",
       "      <td>Alexandria</td>\n",
       "      <td>Virginia</td>\n",
       "      <td>United States</td>\n",
       "      <td>60646</td>\n",
       "      <td>-86.8164</td>\n",
       "      <td>33.2443</td>\n",
       "    </tr>\n",
       "    <tr>\n",
       "      <th>7603</th>\n",
       "      <td>Bethesda</td>\n",
       "      <td>Maryland</td>\n",
       "      <td>United States</td>\n",
       "      <td>55965</td>\n",
       "      <td>-86.3214</td>\n",
       "      <td>34.0315</td>\n",
       "    </tr>\n",
       "    <tr>\n",
       "      <th>11498</th>\n",
       "      <td>Silver Spring</td>\n",
       "      <td>Maryland</td>\n",
       "      <td>United States</td>\n",
       "      <td>51393</td>\n",
       "      <td>-86.4832</td>\n",
       "      <td>31.3085</td>\n",
       "    </tr>\n",
       "    <tr>\n",
       "      <th>...</th>\n",
       "      <td>...</td>\n",
       "      <td>...</td>\n",
       "      <td>...</td>\n",
       "      <td>...</td>\n",
       "      <td>...</td>\n",
       "      <td>...</td>\n",
       "    </tr>\n",
       "    <tr>\n",
       "      <th>2842</th>\n",
       "      <td>Boulder</td>\n",
       "      <td>Colorado</td>\n",
       "      <td>United States</td>\n",
       "      <td>2052</td>\n",
       "      <td>N/A</td>\n",
       "      <td>N/A</td>\n",
       "    </tr>\n",
       "    <tr>\n",
       "      <th>6963</th>\n",
       "      <td>Louisville</td>\n",
       "      <td>Kentucky</td>\n",
       "      <td>United States</td>\n",
       "      <td>2030</td>\n",
       "      <td>N/A</td>\n",
       "      <td>N/A</td>\n",
       "    </tr>\n",
       "    <tr>\n",
       "      <th>7294</th>\n",
       "      <td>Indianapolis</td>\n",
       "      <td>Indiana</td>\n",
       "      <td>United States</td>\n",
       "      <td>2019</td>\n",
       "      <td>N/A</td>\n",
       "      <td>N/A</td>\n",
       "    </tr>\n",
       "    <tr>\n",
       "      <th>17228</th>\n",
       "      <td>Chapel Hill</td>\n",
       "      <td>North Carolina</td>\n",
       "      <td>United States</td>\n",
       "      <td>2004</td>\n",
       "      <td>N/A</td>\n",
       "      <td>N/A</td>\n",
       "    </tr>\n",
       "    <tr>\n",
       "      <th>22606</th>\n",
       "      <td>Fairfax Station</td>\n",
       "      <td>Virginia</td>\n",
       "      <td>United States</td>\n",
       "      <td>1934</td>\n",
       "      <td>-86.443</td>\n",
       "      <td>34.7493</td>\n",
       "    </tr>\n",
       "  </tbody>\n",
       "</table>\n",
       "<p>100 rows × 6 columns</p>\n",
       "</div>"
      ],
      "text/plain": [
       "                  city            state_name   country_name     cnt longitude  \\\n",
       "23288       Washington  District of Columbia  United States  501102       N/A   \n",
       "22513        Arlington              Virginia  United States   81038       N/A   \n",
       "21720       Alexandria              Virginia  United States   60646  -86.8164   \n",
       "7603          Bethesda              Maryland  United States   55965  -86.3214   \n",
       "11498    Silver Spring              Maryland  United States   51393  -86.4832   \n",
       "...                ...                   ...            ...     ...       ...   \n",
       "2842           Boulder              Colorado  United States    2052       N/A   \n",
       "6963        Louisville              Kentucky  United States    2030       N/A   \n",
       "7294      Indianapolis               Indiana  United States    2019       N/A   \n",
       "17228      Chapel Hill        North Carolina  United States    2004       N/A   \n",
       "22606  Fairfax Station              Virginia  United States    1934   -86.443   \n",
       "\n",
       "      latitude  \n",
       "23288      N/A  \n",
       "22513      N/A  \n",
       "21720  33.2443  \n",
       "7603   34.0315  \n",
       "11498  31.3085  \n",
       "...        ...  \n",
       "2842       N/A  \n",
       "6963       N/A  \n",
       "7294       N/A  \n",
       "17228      N/A  \n",
       "22606  34.7493  \n",
       "\n",
       "[100 rows x 6 columns]"
      ]
     },
     "execution_count": 22,
     "metadata": {},
     "output_type": "execute_result"
    }
   ],
   "source": [
    "data.head(10)"
   ]
  },
  {
   "cell_type": "code",
   "execution_count": 14,
   "metadata": {},
   "outputs": [],
   "source": [
    "data.to_csv('../data/address_coordinates.csv',index=False)"
   ]
  },
  {
   "cell_type": "code",
   "execution_count": null,
   "metadata": {},
   "outputs": [],
   "source": [
    "#pd.DataFrame(np.unique(batch[['state_name']].to_numpy()),columns=['State']).to_csv('../data/raw_state.csv')"
   ]
  },
  {
   "cell_type": "code",
   "execution_count": null,
   "metadata": {},
   "outputs": [],
   "source": [
    "# distance between lauryn home and tremaine home | geodisc\n",
    "print(distance.distance(lauryn_home, tremaine_home).miles)"
   ]
  },
  {
   "cell_type": "code",
   "execution_count": null,
   "metadata": {},
   "outputs": [],
   "source": [
    "# greater circle\n",
    "print(distance.great_circle(lauryn_home, tremaine_home).miles)"
   ]
  },
  {
   "cell_type": "code",
   "execution_count": null,
   "metadata": {},
   "outputs": [],
   "source": [
    "df = pd.DataFrame([lauryn_home, tremaine_home, dc_spot],\n",
    "                 columns=['Latitude','Longitude'])"
   ]
  },
  {
   "cell_type": "code",
   "execution_count": null,
   "metadata": {},
   "outputs": [],
   "source": [
    "df"
   ]
  },
  {
   "cell_type": "code",
   "execution_count": null,
   "metadata": {},
   "outputs": [],
   "source": [
    "usa = gpd.read_file('../data/states/States_shapefile.shp')"
   ]
  },
  {
   "cell_type": "code",
   "execution_count": null,
   "metadata": {},
   "outputs": [],
   "source": [
    "usa.head()"
   ]
  },
  {
   "cell_type": "code",
   "execution_count": null,
   "metadata": {},
   "outputs": [],
   "source": [
    "usa.plot()"
   ]
  },
  {
   "cell_type": "code",
   "execution_count": null,
   "metadata": {},
   "outputs": [],
   "source": [
    "usa[usa.State_Code !='AK'].plot()"
   ]
  },
  {
   "cell_type": "code",
   "execution_count": null,
   "metadata": {},
   "outputs": [],
   "source": [
    "usa"
   ]
  },
  {
   "cell_type": "code",
   "execution_count": null,
   "metadata": {},
   "outputs": [],
   "source": [
    "# get geometry\n",
    "geometry = [Point(xy) for xy in zip(df['Longitude'],df['Latitude'])]\n",
    "geometry[:3]"
   ]
  },
  {
   "cell_type": "code",
   "execution_count": null,
   "metadata": {},
   "outputs": [],
   "source": [
    "crs = {'init':'epsg:4326'}\n",
    "geo_df = gpd.GeoDataFrame(df,\n",
    "                         crs = crs,\n",
    "                         geometry = geometry)\n",
    "\n",
    "geo_df"
   ]
  },
  {
   "cell_type": "code",
   "execution_count": null,
   "metadata": {},
   "outputs": [],
   "source": [
    "fig,ax = plt.subplots(figsize = (15,15))\n",
    "usa[usa.State_Code != 'AK'].plot(ax = ax, alpha=0.4, color='grey')\n",
    "geo_df.plot(ax=ax, markersize = 50, color = 'red',\n",
    "           marker=\".\", label=\"Address\")\n",
    "plt.legend(prop={'size':14})"
   ]
  },
  {
   "cell_type": "code",
   "execution_count": null,
   "metadata": {},
   "outputs": [],
   "source": []
  }
 ],
 "metadata": {
  "kernelspec": {
   "display_name": "Python 3",
   "language": "python",
   "name": "python3"
  },
  "language_info": {
   "codemirror_mode": {
    "name": "ipython",
    "version": 3
   },
   "file_extension": ".py",
   "mimetype": "text/x-python",
   "name": "python",
   "nbconvert_exporter": "python",
   "pygments_lexer": "ipython3",
   "version": "3.7.6"
  }
 },
 "nbformat": 4,
 "nbformat_minor": 4
}
